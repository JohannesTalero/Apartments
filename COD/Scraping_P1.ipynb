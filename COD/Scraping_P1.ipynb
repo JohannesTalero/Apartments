{
 "cells": [
  {
   "cell_type": "code",
   "execution_count": 1,
   "id": "7ade9843",
   "metadata": {},
   "outputs": [],
   "source": [
    "import pandas as pd\n",
    "import numpy as np\n",
    "from selenium import webdriver\n",
    "from webdriver_manager.chrome import ChromeDriverManager\n",
    "from selenium.common.exceptions import TimeoutException\n",
    "from selenium.webdriver.support import expected_conditions as EC\n",
    "from selenium.webdriver.common.by import By\n",
    "from selenium.webdriver.support.ui import WebDriverWait\n",
    "from selenium.webdriver import ActionChains\n",
    "import time"
   ]
  },
  {
   "cell_type": "code",
   "execution_count": 2,
   "id": "e3e9652b",
   "metadata": {},
   "outputs": [
    {
     "name": "stderr",
     "output_type": "stream",
     "text": [
      "[WDM] - ====== WebDriver manager ======\n"
     ]
    },
    {
     "name": "stdout",
     "output_type": "stream",
     "text": [
      "\n",
      "\n"
     ]
    },
    {
     "name": "stderr",
     "output_type": "stream",
     "text": [
      "[WDM] - Current google-chrome version is 89.0.4389\n",
      "[WDM] - Get LATEST driver version for 89.0.4389\n",
      "[WDM] - Driver [C:\\Users\\asus\\.wdm\\drivers\\chromedriver\\win32\\89.0.4389.23\\chromedriver.exe] found in cache\n"
     ]
    }
   ],
   "source": [
    "options=webdriver.ChromeOptions()\n",
    "options.add_argument('--incognito')\n",
    "options.add_argument(\"--start-maximized\")\n",
    "options.add_argument(\"disable-infobars\")\n",
    "options.add_experimental_option(\"useAutomationExtension\", False)\n",
    "options.add_experimental_option(\"excludeSwitches\", [\"enable-automation\"])\n",
    "\n",
    "driver = webdriver.Chrome(ChromeDriverManager().install(),options=options)"
   ]
  },
  {
   "cell_type": "code",
   "execution_count": 3,
   "id": "0137f5ee",
   "metadata": {},
   "outputs": [],
   "source": [
    "url='https://www.metrocuadrado.com/'\n",
    "driver.get(url)\n",
    "url='https://www.metrocuadrado.com/inmueble/venta-apartamento-bogota-bellavista-3-habitaciones-4-banos-2-garajes/11079-M2838750'\n",
    "driver.get(url)"
   ]
  },
  {
   "cell_type": "code",
   "execution_count": 79,
   "id": "5ed90ba4",
   "metadata": {},
   "outputs": [],
   "source": [
    "def information_apt(url,information):\n",
    "    driver.get(url)\n",
    "    time.sleep(3) \n",
    "    apt=dict({'URL':url})\n",
    "    for element in driver.find_elements_by_xpath('//div[@class=\"Col-sc-14ninbu-0 lfGZKA mb-3 pb-1 col-12 col-lg-3\"]'):\n",
    "        apt.update({element.text.split('\\n')[0]:element.text.split('\\n')[1]})\n",
    "    print(apt)\n",
    "\n",
    "    card_header=driver.find_elements_by_xpath('//div[@class=\"card-header\"]')\n",
    "    for card_index in range(len(card_header)-1) :\n",
    "        time.sleep(2)  \n",
    "        #List \n",
    "        l=list(set(map(lambda x: x.text,\n",
    "                                   driver.find_elements_by_xpath('//div[@class=\"Col-sc-14ninbu-0 lfGZKA mb-3 col-12 col-md-3\"]'))))\n",
    "        #action\n",
    "        action = ActionChains(driver)\n",
    "        #Scroll\n",
    "        driver.execute_script(\"arguments[0].scrollIntoView();\", card_header[card_index+1])\n",
    "        action.move_to_element(card_header[card_index+1]).click().perform()\n",
    "\n",
    "        #List\n",
    "        apt.update({card_header[card_index].text:l})\n",
    "    l=list(set(map(lambda x: x.text,\n",
    "                                   driver.find_elements_by_xpath('//div[@class=\"Col-sc-14ninbu-0 lfGZKA mb-3 col-12 col-md-3\"]'))))\n",
    "    apt.update({card_header[-1].text:l})\n",
    "\n",
    "    temp=pd.DataFrame({a: str(b) for a, b in apt.items()},index=[0])\n",
    "\n",
    "    information=information.append(temp)\n",
    "    return information\n"
   ]
  },
  {
   "cell_type": "code",
   "execution_count": 80,
   "id": "77620bcc",
   "metadata": {},
   "outputs": [
    {
     "name": "stdout",
     "output_type": "stream",
     "text": [
      "{'URL': 'https://www.metrocuadrado.com/inmueble/venta-apartamento-bogota-bellavista-3-habitaciones-4-banos-2-garajes/11079-M2838750', 'Código inmueble': '11079-M2838750', 'Barrio común': 'LOS ROSALES', 'Precio': '$1.480.000.000', 'Antigüedad': 'Entre 0 y 5 años', 'Área construida': '160 m²', 'Área privada': '160 m²', 'Valor administración': '$1.100.000', 'Parqueaderos': '2'}\n",
      "{'URL': 'https://www.metrocuadrado.com/inmueble/venta-apartamento-bogota-club-los-lagartos-3-habitaciones-2-banos-1-garajes/12503-3705639', 'Código inmueble': '12503-3705639', 'Barrio común': 'El Rincón', 'Precio': '$202.000.000', 'Antigüedad': 'Entre 10 y 20 años', 'Área construida': '65 m²', 'Área privada': '65 m²', 'Valor administración': '$139.500', 'Parqueaderos': '1'}\n"
     ]
    }
   ],
   "source": [
    "information=pd.DataFrame()\n",
    "information=information_apt('https://www.metrocuadrado.com/inmueble/venta-apartamento-bogota-bellavista-3-habitaciones-4-banos-2-garajes/11079-M2838750',information)\n",
    "information=information_apt('https://www.metrocuadrado.com/inmueble/venta-apartamento-bogota-club-los-lagartos-3-habitaciones-2-banos-1-garajes/12503-3705639',information)\n"
   ]
  },
  {
   "cell_type": "code",
   "execution_count": 81,
   "id": "f10067db",
   "metadata": {},
   "outputs": [
    {
     "data": {
      "text/html": [
       "<div>\n",
       "<style scoped>\n",
       "    .dataframe tbody tr th:only-of-type {\n",
       "        vertical-align: middle;\n",
       "    }\n",
       "\n",
       "    .dataframe tbody tr th {\n",
       "        vertical-align: top;\n",
       "    }\n",
       "\n",
       "    .dataframe thead th {\n",
       "        text-align: right;\n",
       "    }\n",
       "</style>\n",
       "<table border=\"1\" class=\"dataframe\">\n",
       "  <thead>\n",
       "    <tr style=\"text-align: right;\">\n",
       "      <th></th>\n",
       "      <th>URL</th>\n",
       "      <th>Código inmueble</th>\n",
       "      <th>Barrio común</th>\n",
       "      <th>Precio</th>\n",
       "      <th>Antigüedad</th>\n",
       "      <th>Área construida</th>\n",
       "      <th>Área privada</th>\n",
       "      <th>Valor administración</th>\n",
       "      <th>Parqueaderos</th>\n",
       "      <th>Interiores</th>\n",
       "      <th>Exteriores</th>\n",
       "      <th>Del sector</th>\n",
       "      <th>Zonas comunes</th>\n",
       "    </tr>\n",
       "  </thead>\n",
       "  <tbody>\n",
       "    <tr>\n",
       "      <th>0</th>\n",
       "      <td>https://www.metrocuadrado.com/inmueble/venta-a...</td>\n",
       "      <td>11079-M2838750</td>\n",
       "      <td>LOS ROSALES</td>\n",
       "      <td>$1.480.000.000</td>\n",
       "      <td>Entre 0 y 5 años</td>\n",
       "      <td>160 m²</td>\n",
       "      <td>160 m²</td>\n",
       "      <td>$1.100.000</td>\n",
       "      <td>2</td>\n",
       "      <td>['', 'Zona de lavandería', 'Tipo de cortinas p...</td>\n",
       "      <td>['', 'Circuito cerrado de TV', 'Vigilancia 24h...</td>\n",
       "      <td>['', 'Cerca parques', 'Cerca centros comercial...</td>\n",
       "      <td>NaN</td>\n",
       "    </tr>\n",
       "    <tr>\n",
       "      <th>0</th>\n",
       "      <td>https://www.metrocuadrado.com/inmueble/venta-a...</td>\n",
       "      <td>12503-3705639</td>\n",
       "      <td>El Rincón</td>\n",
       "      <td>$202.000.000</td>\n",
       "      <td>Entre 10 y 20 años</td>\n",
       "      <td>65 m²</td>\n",
       "      <td>65 m²</td>\n",
       "      <td>$139.500</td>\n",
       "      <td>1</td>\n",
       "      <td>['Tipo acabado de piso otro', '', 'Tipo de com...</td>\n",
       "      <td>NaN</td>\n",
       "      <td>NaN</td>\n",
       "      <td>['', 'Salón comunal', 'Zonas verdes', 'Zona pa...</td>\n",
       "    </tr>\n",
       "  </tbody>\n",
       "</table>\n",
       "</div>"
      ],
      "text/plain": [
       "                                                 URL Código inmueble  \\\n",
       "0  https://www.metrocuadrado.com/inmueble/venta-a...  11079-M2838750   \n",
       "0  https://www.metrocuadrado.com/inmueble/venta-a...   12503-3705639   \n",
       "\n",
       "  Barrio común          Precio          Antigüedad Área construida  \\\n",
       "0  LOS ROSALES  $1.480.000.000    Entre 0 y 5 años          160 m²   \n",
       "0    El Rincón    $202.000.000  Entre 10 y 20 años           65 m²   \n",
       "\n",
       "  Área privada Valor administración Parqueaderos  \\\n",
       "0       160 m²           $1.100.000            2   \n",
       "0        65 m²             $139.500            1   \n",
       "\n",
       "                                          Interiores  \\\n",
       "0  ['', 'Zona de lavandería', 'Tipo de cortinas p...   \n",
       "0  ['Tipo acabado de piso otro', '', 'Tipo de com...   \n",
       "\n",
       "                                          Exteriores  \\\n",
       "0  ['', 'Circuito cerrado de TV', 'Vigilancia 24h...   \n",
       "0                                                NaN   \n",
       "\n",
       "                                          Del sector  \\\n",
       "0  ['', 'Cerca parques', 'Cerca centros comercial...   \n",
       "0                                                NaN   \n",
       "\n",
       "                                       Zonas comunes  \n",
       "0                                                NaN  \n",
       "0  ['', 'Salón comunal', 'Zonas verdes', 'Zona pa...  "
      ]
     },
     "execution_count": 81,
     "metadata": {},
     "output_type": "execute_result"
    }
   ],
   "source": [
    "information"
   ]
  },
  {
   "cell_type": "code",
   "execution_count": null,
   "id": "aa25eb25",
   "metadata": {},
   "outputs": [],
   "source": []
  }
 ],
 "metadata": {
  "kernelspec": {
   "display_name": "Python 3",
   "language": "python",
   "name": "python3"
  },
  "language_info": {
   "codemirror_mode": {
    "name": "ipython",
    "version": 3
   },
   "file_extension": ".py",
   "mimetype": "text/x-python",
   "name": "python",
   "nbconvert_exporter": "python",
   "pygments_lexer": "ipython3",
   "version": "3.8.8"
  }
 },
 "nbformat": 4,
 "nbformat_minor": 5
}
